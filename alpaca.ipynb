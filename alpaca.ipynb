{
  "nbformat": 4,
  "nbformat_minor": 0,
  "metadata": {
    "colab": {
      "name": "alpaca",
      "provenance": [],
      "collapsed_sections": [],
      "authorship_tag": "ABX9TyM8dMYh6qt55sXhzIm5R8ff",
      "include_colab_link": true
    },
    "kernelspec": {
      "name": "python3",
      "display_name": "Python 3"
    }
  },
  "cells": [
    {
      "cell_type": "markdown",
      "metadata": {
        "id": "view-in-github",
        "colab_type": "text"
      },
      "source": [
        "<a href=\"https://colab.research.google.com/github/dhu16/alpaca-trading-bot/blob/main/alpaca.ipynb\" target=\"_parent\"><img src=\"https://colab.research.google.com/assets/colab-badge.svg\" alt=\"Open In Colab\"/></a>"
      ]
    },
    {
      "cell_type": "code",
      "metadata": {
        "id": "hQN6M25tg7fC",
        "colab": {
          "base_uri": "https://localhost:8080/"
        },
        "outputId": "3b41acf8-2651-4927-af41-ce4e798a5f2e"
      },
      "source": [
        "#Dual moving average\r\n",
        "!pip install alpaca_trade_api\r\n",
        "import alpaca_trade_api as tradeapi\r\n",
        "import threading\r\n",
        "import pandas as pd\r\n",
        "from datetime import date\r\n",
        "from datetime import timedelta\r\n",
        "from decimal import Decimal"
      ],
      "execution_count": 1,
      "outputs": [
        {
          "output_type": "stream",
          "text": [
            "Collecting alpaca_trade_api\n",
            "  Downloading https://files.pythonhosted.org/packages/cf/01/ee98cac996038ea7ec5b53dfa8cd8d681d92ee6e2d9f878f8f29e573f5ed/alpaca_trade_api-0.51.0-py3-none-any.whl\n",
            "Collecting websocket-client<1,>=0.56.0\n",
            "\u001b[?25l  Downloading https://files.pythonhosted.org/packages/4c/5f/f61b420143ed1c8dc69f9eaec5ff1ac36109d52c80de49d66e0c36c3dfdf/websocket_client-0.57.0-py2.py3-none-any.whl (200kB)\n",
            "\u001b[K     |████████████████████████████████| 204kB 7.1MB/s \n",
            "\u001b[?25hCollecting websockets<9,>=8.0\n",
            "\u001b[?25l  Downloading https://files.pythonhosted.org/packages/bb/d9/856af84843912e2853b1b6e898ac8b802989fcf9ecf8e8445a1da263bf3b/websockets-8.1-cp36-cp36m-manylinux2010_x86_64.whl (78kB)\n",
            "\u001b[K     |████████████████████████████████| 81kB 6.0MB/s \n",
            "\u001b[?25hRequirement already satisfied: pandas in /usr/local/lib/python3.6/dist-packages (from alpaca_trade_api) (1.1.5)\n",
            "Requirement already satisfied: requests<3,>2 in /usr/local/lib/python3.6/dist-packages (from alpaca_trade_api) (2.23.0)\n",
            "Requirement already satisfied: urllib3<1.26,>1.24 in /usr/local/lib/python3.6/dist-packages (from alpaca_trade_api) (1.24.3)\n",
            "Requirement already satisfied: six in /usr/local/lib/python3.6/dist-packages (from websocket-client<1,>=0.56.0->alpaca_trade_api) (1.15.0)\n",
            "Requirement already satisfied: python-dateutil>=2.7.3 in /usr/local/lib/python3.6/dist-packages (from pandas->alpaca_trade_api) (2.8.1)\n",
            "Requirement already satisfied: numpy>=1.15.4 in /usr/local/lib/python3.6/dist-packages (from pandas->alpaca_trade_api) (1.19.4)\n",
            "Requirement already satisfied: pytz>=2017.2 in /usr/local/lib/python3.6/dist-packages (from pandas->alpaca_trade_api) (2018.9)\n",
            "Requirement already satisfied: idna<3,>=2.5 in /usr/local/lib/python3.6/dist-packages (from requests<3,>2->alpaca_trade_api) (2.10)\n",
            "Requirement already satisfied: chardet<4,>=3.0.2 in /usr/local/lib/python3.6/dist-packages (from requests<3,>2->alpaca_trade_api) (3.0.4)\n",
            "Requirement already satisfied: certifi>=2017.4.17 in /usr/local/lib/python3.6/dist-packages (from requests<3,>2->alpaca_trade_api) (2020.12.5)\n",
            "Installing collected packages: websocket-client, websockets, alpaca-trade-api\n",
            "Successfully installed alpaca-trade-api-0.51.0 websocket-client-0.57.0 websockets-8.1\n"
          ],
          "name": "stdout"
        }
      ]
    },
    {
      "cell_type": "code",
      "metadata": {
        "colab": {
          "base_uri": "https://localhost:8080/"
        },
        "id": "mNWSK6sGiTKz",
        "outputId": "a52ba248-8d91-4f76-a5b0-7e7b0b7babd3"
      },
      "source": [
        "#Auth\r\n",
        "api_key = 'PKQW66RE66GPOJCPVNDY'\r\n",
        "api_secret = 'o9HTNZ6JTwCTz3lmwrWUq08xK1klUjtVz9Wj7EYP'\r\n",
        "base_url = 'https://paper-api.alpaca.markets'\r\n",
        "\r\n",
        "#instantiate REST API\r\n",
        "api = tradeapi.REST(api_key, api_secret, base_url, api_version='v2')\r\n",
        "\r\n",
        "def get_data(symbol: str):\r\n",
        "\r\n",
        "    #Single day stock price\r\n",
        "    today = date.today()\r\n",
        "    current_date = today.strftime(\"%m-%d-%y\")\r\n",
        "    NY = 'America/New_York'\r\n",
        "    start=pd.Timestamp(current_date, tz=NY).isoformat()\r\n",
        "    end=pd.Timestamp(current_date, tz=NY).isoformat()\r\n",
        "\r\n",
        "    api = tradeapi.REST(api_key, api_secret, base_url, api_version='v2')\r\n",
        "    bars = api.get_barset([symbol], 'day', start=start, end=end)\r\n",
        "    bar_set = bars.df\r\n",
        "    bar_set.index.name = \"DateTime\"\r\n",
        "    bar_set.reset_index(inplace=True)\r\n",
        "    dataset = pd.DataFrame({'DateTime': bar_set['DateTime'],\r\n",
        "                            'Open': bar_set[symbol]['open'],\r\n",
        "                            'High': bar_set[symbol]['high'],\r\n",
        "                            'Low': bar_set[symbol]['low'],\r\n",
        "                            'Close': bar_set[symbol]['close'],\r\n",
        "                            'Volume': bar_set[symbol]['volume']})\r\n",
        "    return dataset\r\n",
        "\r\n",
        "#obtain account information\r\n",
        "account = api.get_account()\r\n",
        "print(account)"
      ],
      "execution_count": 3,
      "outputs": [
        {
          "output_type": "stream",
          "text": [
            "Account({   'account_blocked': False,\n",
            "    'account_number': 'PA25EBFUPF1N',\n",
            "    'buying_power': '387884.446',\n",
            "    'cash': '88094.74',\n",
            "    'created_at': '2020-12-10T04:02:05.321554Z',\n",
            "    'currency': 'USD',\n",
            "    'daytrade_count': 0,\n",
            "    'daytrading_buying_power': '387884.446',\n",
            "    'equity': '100530.24',\n",
            "    'id': '1a405059-db7e-4563-9723-6ba183ebeb2b',\n",
            "    'initial_margin': '6217.75',\n",
            "    'last_equity': '100624.47',\n",
            "    'last_maintenance_margin': '3125.556',\n",
            "    'long_market_value': '12435.5',\n",
            "    'maintenance_margin': '3730.65',\n",
            "    'multiplier': '4',\n",
            "    'pattern_day_trader': False,\n",
            "    'portfolio_value': '100530.24',\n",
            "    'regt_buying_power': '188624.98',\n",
            "    'short_market_value': '0',\n",
            "    'shorting_enabled': True,\n",
            "    'sma': '0',\n",
            "    'status': 'ACTIVE',\n",
            "    'trade_suspended_by_user': False,\n",
            "    'trading_blocked': False,\n",
            "    'transfers_blocked': False})\n"
          ],
          "name": "stdout"
        }
      ]
    },
    {
      "cell_type": "code",
      "metadata": {
        "colab": {
          "base_uri": "https://localhost:8080/"
        },
        "id": "XIu8Mtqmv61e",
        "outputId": "ed8add0c-f258-4ecd-f5b2-c88c2dafeb93"
      },
      "source": [
        "df = get_data('AAPL')\r\n",
        "print(df.head())"
      ],
      "execution_count": 4,
      "outputs": [
        {
          "output_type": "stream",
          "text": [
            "Empty DataFrame\n",
            "Columns: [DateTime, Open, High, Low, Close, Volume]\n",
            "Index: []\n"
          ],
          "name": "stdout"
        }
      ]
    },
    {
      "cell_type": "code",
      "metadata": {
        "colab": {
          "base_uri": "https://localhost:8080/"
        },
        "id": "Y0O9hPCMufvW",
        "outputId": "73569f8a-6026-4e7d-82a7-d08656050f69"
      },
      "source": [
        "s = df['Open']\r\n",
        "s"
      ],
      "execution_count": 5,
      "outputs": [
        {
          "output_type": "execute_result",
          "data": {
            "text/plain": [
              "Series([], Name: Open, dtype: object)"
            ]
          },
          "metadata": {
            "tags": []
          },
          "execution_count": 5
        }
      ]
    },
    {
      "cell_type": "code",
      "metadata": {
        "id": "Cocyc8Qdia6H",
        "colab": {
          "base_uri": "https://localhost:8080/"
        },
        "outputId": "ece08d60-0aa0-413e-f129-2a02e58447e8"
      },
      "source": [
        "# Submit a market order to buy 1 share of Apple at market price\r\n",
        "api.submit_order(\r\n",
        "    symbol='AAPL',\r\n",
        "\r\n",
        "    qty=1,\r\n",
        "    side='buy',\r\n",
        "    type='market',\r\n",
        "    time_in_force='gtc'\r\n",
        ")"
      ],
      "execution_count": 6,
      "outputs": [
        {
          "output_type": "execute_result",
          "data": {
            "text/plain": [
              "Order({   'asset_class': 'us_equity',\n",
              "    'asset_id': 'b0b6dd9d-8b9b-48a9-ba46-b9d54906e415',\n",
              "    'canceled_at': None,\n",
              "    'client_order_id': '40488ad6-34bb-4d42-a598-91ca1bb2fe8e',\n",
              "    'created_at': '2020-12-24T00:34:12.385442Z',\n",
              "    'expired_at': None,\n",
              "    'extended_hours': False,\n",
              "    'failed_at': None,\n",
              "    'filled_at': None,\n",
              "    'filled_avg_price': None,\n",
              "    'filled_qty': '0',\n",
              "    'hwm': None,\n",
              "    'id': 'ca9f273d-b140-4f54-82fd-699b2a3d00ba',\n",
              "    'legs': None,\n",
              "    'limit_price': None,\n",
              "    'order_class': '',\n",
              "    'order_type': 'market',\n",
              "    'qty': '1',\n",
              "    'replaced_at': None,\n",
              "    'replaced_by': None,\n",
              "    'replaces': None,\n",
              "    'side': 'buy',\n",
              "    'status': 'accepted',\n",
              "    'stop_price': None,\n",
              "    'submitted_at': '2020-12-24T00:34:12.368686Z',\n",
              "    'symbol': 'AAPL',\n",
              "    'time_in_force': 'gtc',\n",
              "    'trail_percent': None,\n",
              "    'trail_price': None,\n",
              "    'type': 'market',\n",
              "    'updated_at': '2020-12-24T00:34:12.385442Z'})"
            ]
          },
          "metadata": {
            "tags": []
          },
          "execution_count": 6
        }
      ]
    },
    {
      "cell_type": "code",
      "metadata": {
        "colab": {
          "base_uri": "https://localhost:8080/"
        },
        "id": "slhM5OPri7gu",
        "outputId": "a98cb29f-5df0-462b-b13b-6b3b2250ea76"
      },
      "source": [
        "#make this something that takes an input \r\n",
        "ticker= input('Enter ticker: ')\r\n",
        "\r\n",
        "#Create DF of desired company\r\n",
        "df = get_data(ticker)\r\n",
        "\r\n",
        "#Isolate stock price\r\n",
        "d = df['Open']\r\n",
        "\r\n",
        "amt = input('Amount to be traded: ')\r\n",
        "int_amt = int(float(amt) / d[0]) \r\n",
        "stop_price = float(input('Enter stop loss amount: ')) \r\n",
        "\r\n",
        "\r\n",
        "# Submit a market order and assign it a Client Order ID.\r\n",
        "api.submit_order(\r\n",
        "    symbol=ticker,\r\n",
        "    #use stock picker input field\r\n",
        "    qty=int_amt,\r\n",
        "    #take this from amount to be traded on the app \r\n",
        "    #let's say user said $2000/213= 8 stocks you can purschase round(0) Apple stock price it's 213\r\n",
        "\r\n",
        "    side='buy',\r\n",
        "    #use signal\r\n",
        "    type='market',\r\n",
        "    #use market keep it\r\n",
        "    time_in_force='day',\r\n",
        "    order_class='bracket',\r\n",
        "    take_profit=dict(\r\n",
        "        limit_price='305.0', \r\n",
        "    ),\r\n",
        "    #generate order id\r\n",
        "    client_order_id='order5',\r\n",
        "    stop_loss=dict(\r\n",
        "        stop_price=d[0]*(1-(stop_price/100)),\r\n",
        "        #limit_price='100', \r\n",
        "    )\r\n",
        "\r\n",
        "    #for selling at a certain percentage loss of money depends on user input\r\n",
        "    #for selling at a certain profit depends on user input will not be used\r\n",
        "    #take_profit={'limit_price': symbol_price * 1.05}\r\n",
        ")\r\n",
        "\r\n",
        "# Get our order using its Client Order ID.\r\n",
        "my_order = api.get_order_by_client_order_id('order5')\r\n",
        "print('Got order #{}'.format(my_order.id))\r\n"
      ],
      "execution_count": 7,
      "outputs": [
        {
          "output_type": "stream",
          "text": [
            "Enter ticker: AAPL\n",
            "Amount to be traded: 2000\n",
            "Enter stop loss amount: 5\n",
            "Got order #acae1824-f97f-4375-8026-e0379702ccee\n"
          ],
          "name": "stdout"
        }
      ]
    },
    {
      "cell_type": "code",
      "metadata": {
        "id": "aq2NzQZfQAeW"
      },
      "source": [
        "#Libraries\r\n",
        "import pandas_datareader as web\r\n",
        "import numpy as np"
      ],
      "execution_count": 7,
      "outputs": []
    },
    {
      "cell_type": "code",
      "metadata": {
        "colab": {
          "base_uri": "https://localhost:8080/"
        },
        "id": "JSkih3ohQLat",
        "outputId": "4bde0ee3-15d6-4975-d085-d56cba14f719"
      },
      "source": [
        "#Rewriting function for 30 and 100 days\r\n",
        "def get_data(symbol: str):\r\n",
        "\r\n",
        "    #Single day stock price\r\n",
        "    today = date.today() - timedelta(days=1)\r\n",
        "    current_date = today.strftime(\"%m-%d-%y\")\r\n",
        "    sdate = date.today() - timedelta(days=149)\r\n",
        "    startdate = sdate.strftime(\"%m-%d-%y\")\r\n",
        "    NY = 'America/New_York'\r\n",
        "    start=pd.Timestamp(startdate, tz=NY).isoformat()\r\n",
        "    end=pd.Timestamp(current_date, tz=NY).isoformat()\r\n",
        "\r\n",
        "    api = tradeapi.REST(api_key, api_secret, base_url, api_version='v2')\r\n",
        "    bars = api.get_barset([symbol], 'day', start=start, end=end)\r\n",
        "    bar_set = bars.df\r\n",
        "    bar_set.index.name = \"DateTime\"\r\n",
        "    bar_set.reset_index(inplace=True)\r\n",
        "    dataset = pd.DataFrame({'DateTime': bar_set['DateTime'],\r\n",
        "                            'Open': bar_set[symbol]['open'],\r\n",
        "                            'High': bar_set[symbol]['high'],\r\n",
        "                            'Low': bar_set[symbol]['low'],\r\n",
        "                            'Close': bar_set[symbol]['close'],\r\n",
        "                            'Volume': bar_set[symbol]['volume']})\r\n",
        "    return dataset\r\n",
        "\r\n",
        "dataset = get_data('AAPL')\r\n",
        "data = dataset['Close']\r\n",
        "\r\n",
        "#Create SMA for 30 days\r\n",
        "SMA30 = pd.DataFrame()\r\n",
        "SMA30['Close'] = data.rolling(window = 30).mean()\r\n",
        "\r\n",
        "#Create SMA for 100 days\r\n",
        "SMA100 = pd.DataFrame()\r\n",
        "SMA100['Close'] = data.rolling(window = 100).mean()\r\n",
        "\r\n",
        "\r\n",
        "#Function for buy and sell\r\n",
        "def buy_sell_SMA(data):\r\n",
        "    Buy = []\r\n",
        "    Sell = []\r\n",
        "    flag = -1 #does the price continue to rise or descrease the flag changes when lines cross\r\n",
        "\r\n",
        "    for i in range(0, len(data)):\r\n",
        "        if SMA30['Close'][i] > SMA100['Close'][i]:\r\n",
        "            if flag != 1:\r\n",
        "                Buy.append(data)\r\n",
        "                Sell.append(np.nan)\r\n",
        "                flag = 1\r\n",
        "            else:\r\n",
        "                Buy.append(np.nan)\r\n",
        "                Sell.append(np.nan)\r\n",
        "        elif SMA30['Close'][i] < SMA100['Close'][i]:\r\n",
        "            if flag !=0 :\r\n",
        "                Buy.append(np.nan)\r\n",
        "                Sell.append(data)\r\n",
        "            else: \r\n",
        "                Buy.append(np.nan)\r\n",
        "                Sell.append(np.nan)\r\n",
        "        else:\r\n",
        "            Buy.append(np.nan)\r\n",
        "            Sell.append(np.nan)\r\n",
        "\r\n",
        "\r\n",
        "    return (Buy, Sell)\r\n",
        "\r\n",
        "\r\n",
        "#Create a buy and sell column\r\n",
        "a = buy_sell_SMA(data)\r\n",
        "data['Buy_Signal_Price'] = a[0]\r\n",
        "data['Sell_Signal_Price'] = a[1] \r\n",
        "\r\n",
        "print(data)"
      ],
      "execution_count": 15,
      "outputs": [
        {
          "output_type": "stream",
          "text": [
            "0                                                               373.04\n",
            "1                                                               380.27\n",
            "2                                                               384.88\n",
            "3                                                               425.19\n",
            "4                                                               435.66\n",
            "                                           ...                        \n",
            "102                                                             128.24\n",
            "103                                                            131.845\n",
            "104                                                             130.96\n",
            "Buy_Signal_Price     [nan, nan, nan, nan, nan, nan, nan, nan, nan, ...\n",
            "Sell_Signal_Price    [nan, nan, nan, nan, nan, nan, nan, nan, nan, ...\n",
            "Name: Close, Length: 107, dtype: object\n"
          ],
          "name": "stdout"
        },
        {
          "output_type": "stream",
          "text": [
            "/usr/local/lib/python3.6/dist-packages/ipykernel_launcher.py:70: SettingWithCopyWarning: \n",
            "A value is trying to be set on a copy of a slice from a DataFrame\n",
            "\n",
            "See the caveats in the documentation: https://pandas.pydata.org/pandas-docs/stable/user_guide/indexing.html#returning-a-view-versus-a-copy\n"
          ],
          "name": "stderr"
        }
      ]
    }
  ]
}