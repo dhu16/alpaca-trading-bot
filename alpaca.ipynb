{
  "nbformat": 4,
  "nbformat_minor": 0,
  "metadata": {
    "colab": {
      "name": "alpaca",
      "provenance": [],
      "collapsed_sections": [],
      "authorship_tag": "ABX9TyN66P/cB7bGmEqG6u4RGtgs",
      "include_colab_link": true
    },
    "kernelspec": {
      "name": "python3",
      "display_name": "Python 3"
    }
  },
  "cells": [
    {
      "cell_type": "markdown",
      "metadata": {
        "id": "view-in-github",
        "colab_type": "text"
      },
      "source": [
        "<a href=\"https://colab.research.google.com/github/dhu16/alpaca-trading-bot/blob/main/alpaca.ipynb\" target=\"_parent\"><img src=\"https://colab.research.google.com/assets/colab-badge.svg\" alt=\"Open In Colab\"/></a>"
      ]
    },
    {
      "cell_type": "code",
      "metadata": {
        "id": "hQN6M25tg7fC",
        "colab": {
          "base_uri": "https://localhost:8080/"
        },
        "outputId": "f2e3c10f-758c-4f68-d560-79e947aadf84"
      },
      "source": [
        "#Dual moving average\r\n",
        "!pip install alpaca_trade_api\r\n",
        "import alpaca_trade_api as tradeapi\r\n",
        "import threading\r\n",
        "import pandas as pd\r\n",
        "from datetime import date\r\n",
        "from datetime import timedelta\r\n",
        "from decimal import Decimal"
      ],
      "execution_count": null,
      "outputs": [
        {
          "output_type": "stream",
          "text": [
            "Collecting alpaca_trade_api\n",
            "  Downloading https://files.pythonhosted.org/packages/cf/01/ee98cac996038ea7ec5b53dfa8cd8d681d92ee6e2d9f878f8f29e573f5ed/alpaca_trade_api-0.51.0-py3-none-any.whl\n",
            "Collecting websockets<9,>=8.0\n",
            "\u001b[?25l  Downloading https://files.pythonhosted.org/packages/bb/d9/856af84843912e2853b1b6e898ac8b802989fcf9ecf8e8445a1da263bf3b/websockets-8.1-cp36-cp36m-manylinux2010_x86_64.whl (78kB)\n",
            "\u001b[K     |████████████████████████████████| 81kB 4.1MB/s \n",
            "\u001b[?25hRequirement already satisfied: requests<3,>2 in /usr/local/lib/python3.6/dist-packages (from alpaca_trade_api) (2.23.0)\n",
            "Requirement already satisfied: urllib3<1.26,>1.24 in /usr/local/lib/python3.6/dist-packages (from alpaca_trade_api) (1.24.3)\n",
            "Collecting websocket-client<1,>=0.56.0\n",
            "\u001b[?25l  Downloading https://files.pythonhosted.org/packages/4c/5f/f61b420143ed1c8dc69f9eaec5ff1ac36109d52c80de49d66e0c36c3dfdf/websocket_client-0.57.0-py2.py3-none-any.whl (200kB)\n",
            "\u001b[K     |████████████████████████████████| 204kB 18.2MB/s \n",
            "\u001b[?25hRequirement already satisfied: pandas in /usr/local/lib/python3.6/dist-packages (from alpaca_trade_api) (1.1.5)\n",
            "Requirement already satisfied: idna<3,>=2.5 in /usr/local/lib/python3.6/dist-packages (from requests<3,>2->alpaca_trade_api) (2.10)\n",
            "Requirement already satisfied: certifi>=2017.4.17 in /usr/local/lib/python3.6/dist-packages (from requests<3,>2->alpaca_trade_api) (2020.12.5)\n",
            "Requirement already satisfied: chardet<4,>=3.0.2 in /usr/local/lib/python3.6/dist-packages (from requests<3,>2->alpaca_trade_api) (3.0.4)\n",
            "Requirement already satisfied: six in /usr/local/lib/python3.6/dist-packages (from websocket-client<1,>=0.56.0->alpaca_trade_api) (1.15.0)\n",
            "Requirement already satisfied: pytz>=2017.2 in /usr/local/lib/python3.6/dist-packages (from pandas->alpaca_trade_api) (2018.9)\n",
            "Requirement already satisfied: numpy>=1.15.4 in /usr/local/lib/python3.6/dist-packages (from pandas->alpaca_trade_api) (1.18.5)\n",
            "Requirement already satisfied: python-dateutil>=2.7.3 in /usr/local/lib/python3.6/dist-packages (from pandas->alpaca_trade_api) (2.8.1)\n",
            "Installing collected packages: websockets, websocket-client, alpaca-trade-api\n",
            "Successfully installed alpaca-trade-api-0.51.0 websocket-client-0.57.0 websockets-8.1\n"
          ],
          "name": "stdout"
        }
      ]
    },
    {
      "cell_type": "code",
      "metadata": {
        "colab": {
          "base_uri": "https://localhost:8080/"
        },
        "id": "mNWSK6sGiTKz",
        "outputId": "f0b822fe-0bfd-43e8-ec79-48d9033552b2"
      },
      "source": [
        "#Auth\r\n",
        "api_key = 'PKQW66RE66GPOJCPVNDY'\r\n",
        "api_secret = 'o9HTNZ6JTwCTz3lmwrWUq08xK1klUjtVz9Wj7EYP'\r\n",
        "base_url = 'https://paper-api.alpaca.markets'\r\n",
        "\r\n",
        "#instantiate REST API\r\n",
        "api = tradeapi.REST(api_key, api_secret, base_url, api_version='v2')\r\n",
        "\r\n",
        "def get_data(symbol: str):\r\n",
        "\r\n",
        "    #Single day stock price\r\n",
        "    today = date.today()\r\n",
        "    current_date = today.strftime(\"%m-%d-%y\")\r\n",
        "    NY = 'America/New_York'\r\n",
        "    start=pd.Timestamp(current_date, tz=NY).isoformat()\r\n",
        "    end=pd.Timestamp(current_date, tz=NY).isoformat()\r\n",
        "\r\n",
        "    api = tradeapi.REST(api_key, api_secret, base_url, api_version='v2')\r\n",
        "    bars = api.get_barset([symbol], 'day', start=start, end=end)\r\n",
        "    bar_set = bars.df\r\n",
        "    bar_set.index.name = \"DateTime\"\r\n",
        "    bar_set.reset_index(inplace=True)\r\n",
        "    dataset = pd.DataFrame({'DateTime': bar_set['DateTime'],\r\n",
        "                            'Open': bar_set[symbol]['open'],\r\n",
        "                            'High': bar_set[symbol]['high'],\r\n",
        "                            'Low': bar_set[symbol]['low'],\r\n",
        "                            'Close': bar_set[symbol]['close'],\r\n",
        "                            'Volume': bar_set[symbol]['volume']})\r\n",
        "    return dataset\r\n",
        "\r\n",
        "#obtain account information\r\n",
        "account = api.get_account()\r\n",
        "print(account)"
      ],
      "execution_count": null,
      "outputs": [
        {
          "output_type": "stream",
          "text": [
            "Account({   'account_blocked': False,\n",
            "    'account_number': 'PA25EBFUPF1N',\n",
            "    'buying_power': '397919.21',\n",
            "    'cash': '97919.21',\n",
            "    'created_at': '2020-12-10T04:02:05.321554Z',\n",
            "    'currency': 'USD',\n",
            "    'daytrade_count': 1,\n",
            "    'daytrading_buying_power': '397919.21',\n",
            "    'equity': '99989.81',\n",
            "    'id': '1a405059-db7e-4563-9723-6ba183ebeb2b',\n",
            "    'initial_margin': '1035.3',\n",
            "    'last_equity': '100000',\n",
            "    'last_maintenance_margin': '0',\n",
            "    'long_market_value': '2070.6',\n",
            "    'maintenance_margin': '621.18',\n",
            "    'multiplier': '4',\n",
            "    'pattern_day_trader': False,\n",
            "    'portfolio_value': '99989.81',\n",
            "    'regt_buying_power': '197909.02',\n",
            "    'short_market_value': '0',\n",
            "    'shorting_enabled': True,\n",
            "    'sma': '0',\n",
            "    'status': 'ACTIVE',\n",
            "    'trade_suspended_by_user': False,\n",
            "    'trading_blocked': False,\n",
            "    'transfers_blocked': False})\n"
          ],
          "name": "stdout"
        }
      ]
    },
    {
      "cell_type": "code",
      "metadata": {
        "colab": {
          "base_uri": "https://localhost:8080/"
        },
        "id": "XIu8Mtqmv61e",
        "outputId": "16304348-451b-44f7-e945-d3e64ab329ec"
      },
      "source": [
        "df = get_data('AAPL')\r\n",
        "print(df.head())"
      ],
      "execution_count": null,
      "outputs": [
        {
          "output_type": "stream",
          "text": [
            "                   DateTime    Open    High     Low   Close    Volume\n",
            "0 2020-12-11 00:00:00-05:00  122.43  122.76  120.55  121.74  62499125\n"
          ],
          "name": "stdout"
        }
      ]
    },
    {
      "cell_type": "code",
      "metadata": {
        "colab": {
          "base_uri": "https://localhost:8080/"
        },
        "id": "Y0O9hPCMufvW",
        "outputId": "40383274-6c32-461d-d23d-095665ce3641"
      },
      "source": [
        "s = df['Open']\r\n",
        "s"
      ],
      "execution_count": null,
      "outputs": [
        {
          "output_type": "execute_result",
          "data": {
            "text/plain": [
              "0    122.43\n",
              "Name: Open, dtype: float64"
            ]
          },
          "metadata": {
            "tags": []
          },
          "execution_count": 7
        }
      ]
    },
    {
      "cell_type": "code",
      "metadata": {
        "id": "Cocyc8Qdia6H"
      },
      "source": [
        "# Submit a market order to buy 1 share of Apple at market price\r\n",
        "api.submit_order(\r\n",
        "    symbol='AAPL',\r\n",
        "\r\n",
        "    qty=1,\r\n",
        "    side='buy',\r\n",
        "    type='market',\r\n",
        "    time_in_force='gtc'\r\n",
        ")"
      ],
      "execution_count": null,
      "outputs": []
    },
    {
      "cell_type": "code",
      "metadata": {
        "colab": {
          "base_uri": "https://localhost:8080/"
        },
        "id": "slhM5OPri7gu",
        "outputId": "e5996639-470d-42c1-c6cc-15c45f140912"
      },
      "source": [
        "#make this something that takes an input \r\n",
        "ticker= input('Enter ticker: ')\r\n",
        "\r\n",
        "#Create DF of desired company\r\n",
        "df = get_data(ticker)\r\n",
        "\r\n",
        "#Isolate stock price\r\n",
        "d = df['Open']\r\n",
        "\r\n",
        "amt = input('Amount to be traded: ')\r\n",
        "int_amt = int(float(amt) / d[0]) \r\n",
        "#stop_price = float(input('Enter stop loss amount: ')) <---- CONVERT PERCENTAGE INPUT TO DECIMAL\r\n",
        "\r\n",
        "\r\n",
        "# Submit a market order and assign it a Client Order ID.\r\n",
        "api.submit_order(\r\n",
        "    symbol=ticker,\r\n",
        "    #use stock picker input field\r\n",
        "    qty=int_amt,\r\n",
        "    #take this from amount to be traded on the app \r\n",
        "    #let's say user said $2000/213= 8 stocks you can purschase round(0) Apple stock price it's 213\r\n",
        "\r\n",
        "    side='buy',\r\n",
        "    #use signal\r\n",
        "    type='market',\r\n",
        "    #use market keep it\r\n",
        "    time_in_force='day',\r\n",
        "    order_class='bracket',\r\n",
        "    take_profit=dict(\r\n",
        "        limit_price='305.0', #<-------- CONFUSED ABOUT WHAT THIS MEANS AND WHAT OPTIMAL PARAMETERS ARE\r\n",
        "    ),\r\n",
        "    #generate order id\r\n",
        "    client_order_id='order1',\r\n",
        "    stop_loss=dict(\r\n",
        "        stop_price=d[0]*0.95,\r\n",
        "        limit_price='100', # <-------- CONFUSED ON WHAT OPTIMAL PARAMETERS TO USE\r\n",
        "    )\r\n",
        "\r\n",
        "    #for selling at a certain percentage loss of money depends on user input\r\n",
        "    #stop_loss={'stop_price': d[0] * 0.95}, SHOULD BE * (1-STOP_PRICE)\r\n",
        "    #for selling at a certain profit depends on user input will not be used\r\n",
        "    #take_profit={'limit_price': symbol_price * 1.05}\r\n",
        ")\r\n",
        "\r\n",
        "# Get our order using its Client Order ID.\r\n",
        "my_order = api.get_order_by_client_order_id('order1')\r\n",
        "print('Got order #{}'.format(my_order.id))\r\n"
      ],
      "execution_count": null,
      "outputs": [
        {
          "output_type": "stream",
          "text": [
            "Enter ticker: AAPL\n",
            "Amount to be traded: 2000\n",
            "Got order #56788f85-22fb-43d3-bb45-e341a9adf7a9\n"
          ],
          "name": "stdout"
        }
      ]
    },
    {
      "cell_type": "code",
      "metadata": {
        "id": "aq2NzQZfQAeW"
      },
      "source": [
        "#Libraries\r\n",
        "import pandas_datareader as web\r\n",
        "import numpy as np"
      ],
      "execution_count": null,
      "outputs": []
    },
    {
      "cell_type": "code",
      "metadata": {
        "colab": {
          "base_uri": "https://localhost:8080/",
          "height": 374
        },
        "id": "JSkih3ohQLat",
        "outputId": "2cd7cd7a-9792-459e-807d-028304cb722e"
      },
      "source": [
        "#Rewriting function for 30 and 100 days\r\n",
        "def get_data(symbol: str):\r\n",
        "\r\n",
        "    #Single day stock price\r\n",
        "    today = date.today() - timedelta(days=1)\r\n",
        "    current_date = today.strftime(\"%m-%d-%y\")\r\n",
        "    sdate = date.today() - timedelta(days=149)\r\n",
        "    startdate = sdate.strftime(\"%m-%d-%y\")\r\n",
        "    NY = 'America/New_York'\r\n",
        "    start=pd.Timestamp(startdate, tz=NY).isoformat()\r\n",
        "    end=pd.Timestamp(current_date, tz=NY).isoformat()\r\n",
        "\r\n",
        "    api = tradeapi.REST(api_key, api_secret, base_url, api_version='v2')\r\n",
        "    bars = api.get_barset([symbol], 'day', start=start, end=end)\r\n",
        "    bar_set = bars.df\r\n",
        "    bar_set.index.name = \"DateTime\"\r\n",
        "    bar_set.reset_index(inplace=True)\r\n",
        "    dataset = pd.DataFrame({'DateTime': bar_set['DateTime'],\r\n",
        "                            'Open': bar_set[symbol]['open'],\r\n",
        "                            'High': bar_set[symbol]['high'],\r\n",
        "                            'Low': bar_set[symbol]['low'],\r\n",
        "                            'Close': bar_set[symbol]['close'],\r\n",
        "                            'Volume': bar_set[symbol]['volume']})\r\n",
        "    return dataset\r\n",
        "\r\n",
        "dataset = get_data('AAPL')\r\n",
        "data = dataset['Close']\r\n",
        "\r\n",
        "#Create SMA for 30 days\r\n",
        "SMA30 = pd.DataFrame()\r\n",
        "SMA30['Close'] = data.rolling(window = 30).mean()\r\n",
        "\r\n",
        "#Create SMA for 100 days\r\n",
        "SMA100 = pd.DataFrame()\r\n",
        "SMA100['Close'] = data.rolling(window = 100).mean()\r\n",
        "\r\n",
        "\r\n",
        "#Function for buy and sell\r\n",
        "def buy_sell_SMA(data):\r\n",
        "    Buy = []\r\n",
        "    Sell = []\r\n",
        "    flag = -1 #does the price continue to rise or descrease the flag changes when lines cross\r\n",
        "\r\n",
        "    for i in range(0, len(data)):\r\n",
        "        if data['SMA30'][i] > data['SMA100'][i]:\r\n",
        "            if flag != 1:\r\n",
        "                Buy.append(data['Close'])\r\n",
        "                Sell.append(np.nan)\r\n",
        "                flag = 1\r\n",
        "            else:\r\n",
        "                Buy.append(np.nan)\r\n",
        "                Sell.append(np.nan)\r\n",
        "        elif data['SMA30'][i] < data['SMA100'][i]:\r\n",
        "            if flag !=0 :\r\n",
        "                Buy.append(np.nan)\r\n",
        "                Sell.append(data['Close'])\r\n",
        "            else: \r\n",
        "                Buy.append(np.nan)\r\n",
        "                Sell.append(np.nan)\r\n",
        "        else:\r\n",
        "            Buy.append(np.nan)\r\n",
        "            Sell.append(np.nan)\r\n",
        "\r\n",
        "\r\n",
        "    return (Buy, Sell)\r\n",
        "\r\n",
        "\r\n",
        "#Create a buy and sell column\r\n",
        "a = buy_sell_SMA(data)\r\n",
        "data['Buy_Signal_Price'] = a[0]\r\n",
        "data['Sell_Signal_Price'] = a[1] "
      ],
      "execution_count": null,
      "outputs": [
        {
          "output_type": "error",
          "ename": "KeyError",
          "evalue": "ignored",
          "traceback": [
            "\u001b[0;31m---------------------------------------------------------------------------\u001b[0m",
            "\u001b[0;31mKeyError\u001b[0m                                  Traceback (most recent call last)",
            "\u001b[0;32m<ipython-input-142-7679eb98b4fa>\u001b[0m in \u001b[0;36m<module>\u001b[0;34m()\u001b[0m\n\u001b[1;32m     67\u001b[0m \u001b[0;34m\u001b[0m\u001b[0m\n\u001b[1;32m     68\u001b[0m \u001b[0;31m#Create a buy and sell column\u001b[0m\u001b[0;34m\u001b[0m\u001b[0;34m\u001b[0m\u001b[0;34m\u001b[0m\u001b[0m\n\u001b[0;32m---> 69\u001b[0;31m \u001b[0ma\u001b[0m \u001b[0;34m=\u001b[0m \u001b[0mbuy_sell_SMA\u001b[0m\u001b[0;34m(\u001b[0m\u001b[0mdata\u001b[0m\u001b[0;34m)\u001b[0m\u001b[0;34m\u001b[0m\u001b[0;34m\u001b[0m\u001b[0m\n\u001b[0m\u001b[1;32m     70\u001b[0m \u001b[0mdf\u001b[0m\u001b[0;34m[\u001b[0m\u001b[0;34m'Buy_Signal_Price'\u001b[0m\u001b[0;34m]\u001b[0m \u001b[0;34m=\u001b[0m \u001b[0ma\u001b[0m\u001b[0;34m[\u001b[0m\u001b[0;36m0\u001b[0m\u001b[0;34m]\u001b[0m\u001b[0;34m\u001b[0m\u001b[0;34m\u001b[0m\u001b[0m\n\u001b[1;32m     71\u001b[0m \u001b[0mdf\u001b[0m\u001b[0;34m[\u001b[0m\u001b[0;34m'Sell_Signal_Price'\u001b[0m\u001b[0;34m]\u001b[0m \u001b[0;34m=\u001b[0m \u001b[0ma\u001b[0m\u001b[0;34m[\u001b[0m\u001b[0;36m1\u001b[0m\u001b[0;34m]\u001b[0m\u001b[0;34m\u001b[0m\u001b[0;34m\u001b[0m\u001b[0m\n",
            "\u001b[0;32m<ipython-input-142-7679eb98b4fa>\u001b[0m in \u001b[0;36mbuy_sell_SMA\u001b[0;34m(data)\u001b[0m\n\u001b[1;32m     43\u001b[0m \u001b[0;34m\u001b[0m\u001b[0m\n\u001b[1;32m     44\u001b[0m     \u001b[0;32mfor\u001b[0m \u001b[0mi\u001b[0m \u001b[0;32min\u001b[0m \u001b[0mrange\u001b[0m\u001b[0;34m(\u001b[0m\u001b[0;36m0\u001b[0m\u001b[0;34m,\u001b[0m \u001b[0mlen\u001b[0m\u001b[0;34m(\u001b[0m\u001b[0mdata\u001b[0m\u001b[0;34m)\u001b[0m\u001b[0;34m)\u001b[0m\u001b[0;34m:\u001b[0m\u001b[0;34m\u001b[0m\u001b[0;34m\u001b[0m\u001b[0m\n\u001b[0;32m---> 45\u001b[0;31m         \u001b[0;32mif\u001b[0m \u001b[0mdata\u001b[0m\u001b[0;34m[\u001b[0m\u001b[0;34m'SMA30'\u001b[0m\u001b[0;34m]\u001b[0m\u001b[0;34m[\u001b[0m\u001b[0mi\u001b[0m\u001b[0;34m]\u001b[0m \u001b[0;34m>\u001b[0m \u001b[0mdata\u001b[0m\u001b[0;34m[\u001b[0m\u001b[0;34m'SMA100'\u001b[0m\u001b[0;34m]\u001b[0m\u001b[0;34m[\u001b[0m\u001b[0mi\u001b[0m\u001b[0;34m]\u001b[0m\u001b[0;34m:\u001b[0m\u001b[0;34m\u001b[0m\u001b[0;34m\u001b[0m\u001b[0m\n\u001b[0m\u001b[1;32m     46\u001b[0m             \u001b[0;32mif\u001b[0m \u001b[0mflag\u001b[0m \u001b[0;34m!=\u001b[0m \u001b[0;36m1\u001b[0m\u001b[0;34m:\u001b[0m\u001b[0;34m\u001b[0m\u001b[0;34m\u001b[0m\u001b[0m\n\u001b[1;32m     47\u001b[0m                 \u001b[0mBuy\u001b[0m\u001b[0;34m.\u001b[0m\u001b[0mappend\u001b[0m\u001b[0;34m(\u001b[0m\u001b[0mdata\u001b[0m\u001b[0;34m[\u001b[0m\u001b[0;34m'Close'\u001b[0m\u001b[0;34m]\u001b[0m\u001b[0;34m)\u001b[0m\u001b[0;34m\u001b[0m\u001b[0;34m\u001b[0m\u001b[0m\n",
            "\u001b[0;32m/usr/local/lib/python3.6/dist-packages/pandas/core/series.py\u001b[0m in \u001b[0;36m__getitem__\u001b[0;34m(self, key)\u001b[0m\n\u001b[1;32m    880\u001b[0m \u001b[0;34m\u001b[0m\u001b[0m\n\u001b[1;32m    881\u001b[0m         \u001b[0;32melif\u001b[0m \u001b[0mkey_is_scalar\u001b[0m\u001b[0;34m:\u001b[0m\u001b[0;34m\u001b[0m\u001b[0;34m\u001b[0m\u001b[0m\n\u001b[0;32m--> 882\u001b[0;31m             \u001b[0;32mreturn\u001b[0m \u001b[0mself\u001b[0m\u001b[0;34m.\u001b[0m\u001b[0m_get_value\u001b[0m\u001b[0;34m(\u001b[0m\u001b[0mkey\u001b[0m\u001b[0;34m)\u001b[0m\u001b[0;34m\u001b[0m\u001b[0;34m\u001b[0m\u001b[0m\n\u001b[0m\u001b[1;32m    883\u001b[0m \u001b[0;34m\u001b[0m\u001b[0m\n\u001b[1;32m    884\u001b[0m         \u001b[0;32mif\u001b[0m \u001b[0mis_hashable\u001b[0m\u001b[0;34m(\u001b[0m\u001b[0mkey\u001b[0m\u001b[0;34m)\u001b[0m\u001b[0;34m:\u001b[0m\u001b[0;34m\u001b[0m\u001b[0;34m\u001b[0m\u001b[0m\n",
            "\u001b[0;32m/usr/local/lib/python3.6/dist-packages/pandas/core/series.py\u001b[0m in \u001b[0;36m_get_value\u001b[0;34m(self, label, takeable)\u001b[0m\n\u001b[1;32m    988\u001b[0m \u001b[0;34m\u001b[0m\u001b[0m\n\u001b[1;32m    989\u001b[0m         \u001b[0;31m# Similar to Index.get_value, but we do not fall back to positional\u001b[0m\u001b[0;34m\u001b[0m\u001b[0;34m\u001b[0m\u001b[0;34m\u001b[0m\u001b[0m\n\u001b[0;32m--> 990\u001b[0;31m         \u001b[0mloc\u001b[0m \u001b[0;34m=\u001b[0m \u001b[0mself\u001b[0m\u001b[0;34m.\u001b[0m\u001b[0mindex\u001b[0m\u001b[0;34m.\u001b[0m\u001b[0mget_loc\u001b[0m\u001b[0;34m(\u001b[0m\u001b[0mlabel\u001b[0m\u001b[0;34m)\u001b[0m\u001b[0;34m\u001b[0m\u001b[0;34m\u001b[0m\u001b[0m\n\u001b[0m\u001b[1;32m    991\u001b[0m         \u001b[0;32mreturn\u001b[0m \u001b[0mself\u001b[0m\u001b[0;34m.\u001b[0m\u001b[0mindex\u001b[0m\u001b[0;34m.\u001b[0m\u001b[0m_get_values_for_loc\u001b[0m\u001b[0;34m(\u001b[0m\u001b[0mself\u001b[0m\u001b[0;34m,\u001b[0m \u001b[0mloc\u001b[0m\u001b[0;34m,\u001b[0m \u001b[0mlabel\u001b[0m\u001b[0;34m)\u001b[0m\u001b[0;34m\u001b[0m\u001b[0;34m\u001b[0m\u001b[0m\n\u001b[1;32m    992\u001b[0m \u001b[0;34m\u001b[0m\u001b[0m\n",
            "\u001b[0;32m/usr/local/lib/python3.6/dist-packages/pandas/core/indexes/range.py\u001b[0m in \u001b[0;36mget_loc\u001b[0;34m(self, key, method, tolerance)\u001b[0m\n\u001b[1;32m    356\u001b[0m                 \u001b[0;32mexcept\u001b[0m \u001b[0mValueError\u001b[0m \u001b[0;32mas\u001b[0m \u001b[0merr\u001b[0m\u001b[0;34m:\u001b[0m\u001b[0;34m\u001b[0m\u001b[0;34m\u001b[0m\u001b[0m\n\u001b[1;32m    357\u001b[0m                     \u001b[0;32mraise\u001b[0m \u001b[0mKeyError\u001b[0m\u001b[0;34m(\u001b[0m\u001b[0mkey\u001b[0m\u001b[0;34m)\u001b[0m \u001b[0;32mfrom\u001b[0m \u001b[0merr\u001b[0m\u001b[0;34m\u001b[0m\u001b[0;34m\u001b[0m\u001b[0m\n\u001b[0;32m--> 358\u001b[0;31m             \u001b[0;32mraise\u001b[0m \u001b[0mKeyError\u001b[0m\u001b[0;34m(\u001b[0m\u001b[0mkey\u001b[0m\u001b[0;34m)\u001b[0m\u001b[0;34m\u001b[0m\u001b[0;34m\u001b[0m\u001b[0m\n\u001b[0m\u001b[1;32m    359\u001b[0m         \u001b[0;32mreturn\u001b[0m \u001b[0msuper\u001b[0m\u001b[0;34m(\u001b[0m\u001b[0;34m)\u001b[0m\u001b[0;34m.\u001b[0m\u001b[0mget_loc\u001b[0m\u001b[0;34m(\u001b[0m\u001b[0mkey\u001b[0m\u001b[0;34m,\u001b[0m \u001b[0mmethod\u001b[0m\u001b[0;34m=\u001b[0m\u001b[0mmethod\u001b[0m\u001b[0;34m,\u001b[0m \u001b[0mtolerance\u001b[0m\u001b[0;34m=\u001b[0m\u001b[0mtolerance\u001b[0m\u001b[0;34m)\u001b[0m\u001b[0;34m\u001b[0m\u001b[0;34m\u001b[0m\u001b[0m\n\u001b[1;32m    360\u001b[0m \u001b[0;34m\u001b[0m\u001b[0m\n",
            "\u001b[0;31mKeyError\u001b[0m: 'SMA30'"
          ]
        }
      ]
    }
  ]
}